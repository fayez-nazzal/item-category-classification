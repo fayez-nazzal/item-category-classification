{
 "cells": [
  {
   "cell_type": "code",
   "execution_count": 74,
   "metadata": {},
   "outputs": [],
   "source": [
    "# Data Loading\n",
    "\n",
    "import pandas as pd\n",
    "\n",
    "\n",
    "# Combine two datasets into one dataframe\n",
    "\n",
    "skroutz_data = pd.read_csv('./skroutz_aggregate.csv')\n",
    "\n",
    "cols = [0, 1, 3, 5]\n",
    "skroutz_data = skroutz_data.drop(skroutz_data.columns[cols],axis=1).iloc[: , 1:]\n",
    "skroutz_data.columns = ['item_name', 'item_category']\n",
    "\n",
    "shopmania_data = pd.read_csv(\"./shopmania.csv\")\n",
    "\n",
    "cols = [0, 2]\n",
    "shopmania_data = shopmania_data.drop(shopmania_data.columns[cols],axis=1)\n",
    "shopmania_data.columns = ['item_name', 'item_category']\n",
    "\n",
    "frames = [skroutz_data, shopmania_data]\n",
    "\n",
    "df = pd.concat(frames)"
   ]
  },
  {
   "cell_type": "code",
   "execution_count": 75,
   "metadata": {},
   "outputs": [],
   "source": [
    "# Drop duplicates and Na rows\n",
    "\n",
    "df = df.drop_duplicates(subset=['item_name']).dropna()"
   ]
  },
  {
   "cell_type": "code",
   "execution_count": 76,
   "metadata": {},
   "outputs": [],
   "source": [
    "def rename_category(from_name, to_name):\n",
    "    df['item_category'] = df['item_category'].replace([from_name],to_name)\n",
    "    \n",
    "rename_category(\"Men's Watches\", \"Watches\")\n",
    "rename_category(\"Women's Watches\", \"Watches\")\n",
    "rename_category(\"Cell Phones Accessories\", \"Mobile Phones\")\n",
    "rename_category(\"Football\", \"Sports\")\n",
    "rename_category(\"Table tennis\", \"Sports\")\n",
    "rename_category(\"Volleyball\", \"Sports\")\n",
    "rename_category(\"Other Sports\", \"Sports\")\n",
    "rename_category(\"Water Sports\", \"Sports\")\n",
    "rename_category(\"Tennis\", \"Sports\")\n",
    "rename_category(\"Hair Care\", \"Personal Care\")\n",
    "rename_category(\"Make-up & Costumes\", \"Personal Care\")\n",
    "rename_category(\"Women Cosmetics\", \"Personal Care\")\n",
    "rename_category(\"Men Cosmetics\", \"Personal Care\")\n",
    "rename_category(\"Bath & Body\", \"Personal Care\")\n",
    "rename_category(\"Home Decor\", \"Furniture\")\n",
    "rename_category(\"Microwave\", \"Cookers & Ovens\")\n",
    "rename_category(\"Pet Supply\", \"Pets\")\n",
    "rename_category(\"Medical Supplies\", \"Medicine & Supplements\")\n",
    "rename_category(\"Vitamins & Supplements\", \"Medicine & Supplements\")\n",
    "rename_category(\"Medicine\", \"Medicine & Supplements\")\n",
    "rename_category(\"DVDs\", \"Home & Cinema\")\n",
    "rename_category(\"DVD & Blu-Ray Players\", \"Home & Cinema\")\n",
    "rename_category(\"Home Cinema\", \"Home & Cinema\")\n",
    "rename_category(\"Home Entertainment\", \"Home & Cinema\")\n",
    "rename_category(\"CD Players\", \"Home & Cinema\")\n",
    "rename_category(\"Darts\", \"Crafts\")\n",
    "rename_category(\"Calculators\", \"Office Supplies\")\n",
    "rename_category(\"Office Equipment\", \"Office Supplies\")\n",
    "rename_category(\"Other software\", \"Software\")\n",
    "rename_category(\"Office software\", \"Software\")\n",
    "rename_category(\"Operating systems\", \"Software\")\n",
    "rename_category(\"Chest Freezers\", \"Refrigerators\")\n",
    "rename_category(\"Microphones\", \"Computers & Parts\")\n",
    "rename_category(\"Speakers\", \"Computers & Parts\")\n",
    "rename_category(\"SSD\", \"Computers & Parts\")\n",
    "rename_category(\"Headphones\", \"Computers & Parts\")\n",
    "rename_category(\"CPUs\", \"Computers & Parts\")\n",
    "rename_category(\"Headphones\", \"Computers & Parts\")\n",
    "rename_category(\"Keyboards & Mice\", \"Computers & Parts\")\n",
    "rename_category(\"Gaming Accessories\", \"Computers & Parts\")\n",
    "rename_category(\"Cooling Fans\", \"Computers & Parts\")\n",
    "rename_category(\"Fan Heaters\", \"Heaters\")\n",
    "rename_category(\"Other Kitchen Appliances\", \"Kitchen & Dining\")\n",
    "rename_category(\"Ice Cream Makers\", \"Kitchen & Dining\")\n",
    "rename_category(\"Food Steamers\", \"Kitchen & Dining\")\n",
    "rename_category(\"Audio / DJ Equipment\", \"Digital Devices\")\n",
    "rename_category(\"Analog Cameras\", \"Digital Devices\")\n",
    "rename_category(\"Mirrorless Cameras\", \"Digital Devices\")\n",
    "rename_category(\"DSLR Cameras\", \"Digital Devices\")\n",
    "rename_category(\"Digital Camera and Camcorder Accessories\", \"Digital Devices\")\n",
    "rename_category(\"MP3 and MP4 Player Accessories\", \"Digital Devices\")\n",
    "rename_category(\"Compact Cameras\", \"Digital Devices\")\n",
    "rename_category(\"UPS\", \"Power Supplies\")\n",
    "rename_category(\"Car & Boat Batteries\", \"Power Supplies\")\n",
    "rename_category(\"Batteries\", \"Power Supplies\")\n",
    "rename_category(\"Cases and Power Supplies\", \"Power Supplies\")\n",
    "rename_category(\"Air Conditioners\", \"Conditioners & Inverters\")\n",
    "rename_category(\"Home Air Conditioners - Inverters\", \"Conditioners & Inverters\")\n",
    "rename_category(\"Baby & Children Apparel\", \"Baby gear\")\n",
    "rename_category(\"Bags & Backpacks\", \"Bags & Wallets\")\n",
    "rename_category(\"Handbags & Wallets\", \"Bags & Wallets\")\n",
    "rename_category(\"Power Tools\", \"Tools\")\n",
    "rename_category(\"Measuring & Layout Tools\", \"Tools\")"
   ]
  },
  {
   "cell_type": "code",
   "execution_count": 77,
   "metadata": {},
   "outputs": [],
   "source": [
    "# Drop categories that have less than 'min_size' items\n",
    "\n",
    "min_size = 3200\n",
    "\n",
    "df['count'] = df.groupby('item_category').transform('count')\n",
    "df = df.loc[df['count'] >= min_size].drop(columns='count')\n",
    "X, y = pd.DataFrame(df['item_name']), pd.DataFrame(df['item_category'])"
   ]
  },
  {
   "cell_type": "code",
   "execution_count": 78,
   "metadata": {},
   "outputs": [],
   "source": [
    "# Remove some categories\n",
    "\n",
    "def removerows(categories):\n",
    "    for category in categories:\n",
    "        filtering = df['item_category'] != category\n",
    "        \n",
    "        df.where(filtering, inplace=True)\n",
    "    \n",
    "removerows([\n",
    "    'Adult'\n",
    "])"
   ]
  },
  {
   "cell_type": "code",
   "execution_count": 79,
   "metadata": {},
   "outputs": [],
   "source": [
    "# Drop duplicates and Na rows\n",
    "\n",
    "df = df.drop_duplicates(subset=['item_name']).dropna()"
   ]
  },
  {
   "cell_type": "code",
   "execution_count": 80,
   "metadata": {},
   "outputs": [],
   "source": [
    "# save cleaned dataset\n",
    "\n",
    "df.to_csv(\"data_cleaned.csv\")"
   ]
  },
  {
   "cell_type": "code",
   "execution_count": 81,
   "metadata": {},
   "outputs": [
    {
     "data": {
      "text/plain": [
       "Watches                    58932\n",
       "Medicine & Supplements     19880\n",
       "Bags & Wallets             12759\n",
       "Furniture                  12698\n",
       "Office Supplies            11720\n",
       "Sports                     10056\n",
       "Pets                       10033\n",
       "Crafts                     10002\n",
       "Mobile Phones               9999\n",
       "Scarves and wraps           9997\n",
       "Kitchen & Dining            9970\n",
       "Rugs  Tapestry & Linens     9969\n",
       "Jewelry                     9928\n",
       "Belts                       9898\n",
       "Women's Clothing            9878\n",
       "Hunting                     9820\n",
       "Men's Clothing              9612\n",
       "Men Lingerie                9480\n",
       "Tools                       9211\n",
       "Hats and gloves             8815\n",
       "Cleaning Supplies           8331\n",
       "Personal Care               7251\n",
       "Fragrance                   6931\n",
       "Food                        6183\n",
       "Garden & Outdoors           4910\n",
       "Consumables                 4053\n",
       "Sunglasses                  3999\n",
       "Toys                        3876\n",
       "Collectibles                3653\n",
       "Baby gear                   3259\n",
       "Name: item_category, dtype: int64"
      ]
     },
     "execution_count": 81,
     "metadata": {},
     "output_type": "execute_result"
    }
   ],
   "source": [
    "df['item_category'].value_counts()"
   ]
  }
 ],
 "metadata": {
  "interpreter": {
   "hash": "2fabc74fbe741f7d33a8f7a7af0933efb40be3cd5ce65533f064af21edd28860"
  },
  "kernelspec": {
   "display_name": "Python 3.9.13 64-bit ('3.9.13')",
   "language": "python",
   "name": "python3"
  },
  "language_info": {
   "codemirror_mode": {
    "name": "ipython",
    "version": 3
   },
   "file_extension": ".py",
   "mimetype": "text/x-python",
   "name": "python",
   "nbconvert_exporter": "python",
   "pygments_lexer": "ipython3",
   "version": "3.9.13"
  },
  "orig_nbformat": 4
 },
 "nbformat": 4,
 "nbformat_minor": 2
}
